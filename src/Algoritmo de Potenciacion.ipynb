{
 "cells": [
  {
   "cell_type": "code",
   "execution_count": 9,
   "id": "3d382ca3",
   "metadata": {},
   "outputs": [],
   "source": [
    "import numpy as np\n",
    "import pandas as pd\n",
    "import warnings\n",
    "import matplotlib.pyplot as plt \n",
    "import seaborn as sns\n",
    "\n",
    "def warn (*args, **kwargs):\n",
    "    pass\n",
    "\n",
    "warnings.warn = warn\n",
    "warnings.filterwarnings(\"ignore\", category=FutureWarning)\n",
    "pd.set_option(\"display.max_columns\", None)\n",
    "\n",
    "total_data = pd.read_csv(\"https://raw.githubusercontent.com/4GeeksAcademy/decision-tree-project-tutorial/main/diabetes.csv\")\n",
    "X_train_sin_outliers = pd.read_excel(\"//workspaces/Tulio-Gimenez-Tutorial-del-Proyecto-Arbol-de-Decision/data/processed/X_test_sin_outliers.xlsx\")\n",
    "X_train_con_outliers = pd.read_excel(\"/workspaces/Tulio-Gimenez-Tutorial-del-Proyecto-Arbol-de-Decision/data/processed/X_train_con_outliers.xlsx\")\n",
    "X_train_sin_outliers = pd.read_excel(\"/workspaces/Tulio-Gimenez-Tutorial-del-Proyecto-Arbol-de-Decision/data/processed/X_train_sin_outliers.xlsx\")\n",
    "X_test_con_outliers = pd.read_excel(\"//workspaces/Tulio-Gimenez-Tutorial-del-Proyecto-Arbol-de-Decision/data/processed/X_test_con_outliers.xlsx\")\n",
    "y_train = pd.read_excel(\"/workspaces/Tulio-Gimenez-Tutorial-del-Proyecto-Arbol-de-Decision/data/processed/y_train.xlsx\")\n",
    "y_test = pd.read_excel(\"//workspaces/Tulio-Gimenez-Tutorial-del-Proyecto-Arbol-de-Decision/data/processed/y_test.xlsx\")"
   ]
  },
  {
   "cell_type": "markdown",
   "id": "b07eabfe",
   "metadata": {},
   "source": [
    "MODELO: Gradient Boost Classfier"
   ]
  },
  {
   "cell_type": "code",
   "execution_count": 10,
   "id": "6334bff0",
   "metadata": {},
   "outputs": [
    {
     "name": "stdout",
     "output_type": "stream",
     "text": [
      "Accuracy: [0.8697068403908795, 0.7003257328990228]\n",
      "Mejor Accuracy: 0.8697068403908795\n"
     ]
    }
   ],
   "source": [
    "from sklearn.ensemble import GradientBoostingClassifier\n",
    "from sklearn.metrics import accuracy_score\n",
    "\n",
    "accuracy_results = []\n",
    "\n",
    "models = []\n",
    "for dataset in [\n",
    "    X_train_con_outliers,\n",
    "    X_train_sin_outliers,\n",
    "    \n",
    "]:\n",
    "  \n",
    "    model = GradientBoostingClassifier(\n",
    "    n_estimators=10,\n",
    "    max_depth=5,\n",
    "    min_samples_split=10,\n",
    "    min_samples_leaf=5,\n",
    "    random_state=42\n",
    ")\n",
    "    model.fit(dataset, y_train)\n",
    "    y_pred = model.predict(dataset)\n",
    "    accuracy = accuracy_score(y_train, y_pred)\n",
    "    accuracy_results.append(accuracy_score(y_train, y_pred))\n",
    "\n",
    "print(\"Accuracy:\", accuracy_results)\n",
    "print(\"Mejor Accuracy:\", max(accuracy_results))"
   ]
  },
  {
   "cell_type": "code",
   "execution_count": 11,
   "id": "058ac19c",
   "metadata": {},
   "outputs": [
    {
     "name": "stdout",
     "output_type": "stream",
     "text": [
      "Accuracy en test: 0.7857142857142857\n"
     ]
    }
   ],
   "source": [
    "model = GradientBoostingClassifier(\n",
    "    loss = 'log_loss',\n",
    "    learning_rate=0.1,\n",
    "    n_estimators=10,\n",
    "    max_depth=2,\n",
    "    subsample=0.7,\n",
    "    min_samples_split=2,\n",
    "    min_samples_leaf=1,\n",
    "    random_state=42,\n",
    ")\n",
    "model.fit(X_train_con_outliers, y_train)\n",
    "y_pred_test = model.predict(X_test_con_outliers)\n",
    "\n",
    "accuracy = accuracy_score(y_test, y_pred_test)\n",
    "print(\"Accuracy en test:\", accuracy)"
   ]
  },
  {
   "cell_type": "markdown",
   "id": "a9015f74",
   "metadata": {},
   "source": [
    "MODELO: Ada Boost Classifier"
   ]
  },
  {
   "cell_type": "code",
   "execution_count": 12,
   "id": "9b2e8a23",
   "metadata": {},
   "outputs": [
    {
     "name": "stdout",
     "output_type": "stream",
     "text": [
      "Accuracy: [0.7801302931596091, 0.6612377850162866]\n",
      "Mejor Accuracy: 0.7801302931596091\n"
     ]
    }
   ],
   "source": [
    "from sklearn.ensemble import AdaBoostClassifier\n",
    "from sklearn.metrics import accuracy_score\n",
    "\n",
    "accuracy_results = []\n",
    "\n",
    "for dataset in [\n",
    "    X_train_con_outliers,\n",
    "    X_train_sin_outliers,\n",
    "    \n",
    "\n",
    "]:\n",
    "\n",
    "    model = AdaBoostClassifier(\n",
    "    n_estimators=10, \n",
    "    learning_rate=1.0,\n",
    "    random_state=42,\n",
    ")\n",
    "    model.fit(dataset, y_train)\n",
    "    y_pred = model.predict(dataset)\n",
    "\n",
    "    accuracy = accuracy_score(y_train, y_pred)\n",
    "    accuracy_results.append(accuracy_score(y_train, y_pred))\n",
    "\n",
    "print(\"Accuracy:\", accuracy_results)\n",
    "print(\"Mejor Accuracy:\", max(accuracy_results))"
   ]
  },
  {
   "cell_type": "code",
   "execution_count": 13,
   "id": "bfa48d92",
   "metadata": {},
   "outputs": [
    {
     "name": "stdout",
     "output_type": "stream",
     "text": [
      "Accuracy en test: 0.7597402597402597\n"
     ]
    }
   ],
   "source": [
    "model = AdaBoostClassifier(\n",
    "    n_estimators=10, \n",
    "    learning_rate=1.0,\n",
    "    random_state=42,\n",
    ")\n",
    "model.fit(X_train_con_outliers, y_train)\n",
    "y_pred_test = model.predict(X_test_con_outliers)\n",
    "\n",
    "accuracy = accuracy_score(y_test, y_pred_test)\n",
    "print(\"Accuracy en test:\", accuracy)"
   ]
  },
  {
   "cell_type": "markdown",
   "id": "1ba53ae9",
   "metadata": {},
   "source": [
    "MODELO: XGBoost"
   ]
  },
  {
   "cell_type": "code",
   "execution_count": 14,
   "id": "bdafa8b3",
   "metadata": {},
   "outputs": [
    {
     "name": "stdout",
     "output_type": "stream",
     "text": [
      "Accuracy: [0.7964169381107492, 0.6563517915309446]\n",
      "Mejor Accuracy: 0.7964169381107492\n"
     ]
    }
   ],
   "source": [
    "from xgboost import XGBClassifier\n",
    "from sklearn.metrics import accuracy_score\n",
    "\n",
    "accuracy_results = []\n",
    "\n",
    "for dataset in [\n",
    "    X_train_con_outliers,\n",
    "    X_train_sin_outliers,\n",
    "    \n",
    "\n",
    "]:\n",
    "\n",
    "    model = XGBClassifier(\n",
    "    n_estimators=10,\n",
    "    learning_rate=0.1,\n",
    "    loss = 'log_loss',\n",
    "    max_depth=3,\n",
    "    subsample=0.8,\n",
    "    max_features=0.8,\n",
    "    random_state=42\n",
    ")\n",
    "\n",
    "    model.fit(dataset, y_train)\n",
    "    y_pred = model.predict(dataset)\n",
    "\n",
    "    accuracy = accuracy_score(y_train, y_pred)\n",
    "    accuracy_results.append(accuracy_score(y_train, y_pred))\n",
    "\n",
    "print(\"Accuracy:\", accuracy_results)\n",
    "print(\"Mejor Accuracy:\", max(accuracy_results))"
   ]
  },
  {
   "cell_type": "code",
   "execution_count": 15,
   "id": "da783323",
   "metadata": {},
   "outputs": [
    {
     "name": "stdout",
     "output_type": "stream",
     "text": [
      "Accuracy en test: 0.6493506493506493\n"
     ]
    }
   ],
   "source": [
    "model = XGBClassifier(\n",
    "    n_estimators=10,\n",
    "    learning_rate=0.1,\n",
    "    loss = 'log_loss',\n",
    "    max_depth=3,\n",
    "    subsample=0.8,\n",
    "    max_features=0.8,\n",
    "    random_state=42\n",
    ")\n",
    "\n",
    "model.fit(X_train_sin_outliers, y_train)\n",
    "y_pred_test = model.predict(X_test_con_outliers)\n",
    "\n",
    "accuracy = accuracy_score(y_test, y_pred_test)\n",
    "print(\"Accuracy en test:\", accuracy)"
   ]
  }
 ],
 "metadata": {
  "kernelspec": {
   "display_name": "Python 3",
   "language": "python",
   "name": "python3"
  },
  "language_info": {
   "codemirror_mode": {
    "name": "ipython",
    "version": 3
   },
   "file_extension": ".py",
   "mimetype": "text/x-python",
   "name": "python",
   "nbconvert_exporter": "python",
   "pygments_lexer": "ipython3",
   "version": "3.11.4"
  }
 },
 "nbformat": 4,
 "nbformat_minor": 5
}
